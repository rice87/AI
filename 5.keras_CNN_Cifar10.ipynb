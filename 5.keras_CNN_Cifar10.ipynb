{
  "nbformat": 4,
  "nbformat_minor": 0,
  "metadata": {
    "colab": {
      "name": "「「keras_CNN_Cifar10.ipynb」的副本」的副本",
      "provenance": []
    },
    "kernelspec": {
      "name": "python3",
      "display_name": "Python 3"
    },
    "language_info": {
      "name": "python"
    },
    "accelerator": "GPU"
  },
  "cells": [
    {
      "cell_type": "code",
      "source": [
        "from tensorflow import keras\n",
        "from keras.models import Sequential\n",
        "from keras.layers import Dense, Conv2D, MaxPooling2D, Flatten\n",
        "model=Sequential()\n",
        "model.add(Conv2D(filters=64, kernel_size=(5, 5), input_shape=(32, 32, 3), activation='relu'))\n",
        "model.add(Conv2D(filters=64, kernel_size=(5, 5), activation='relu'))\n",
        "model.add(MaxPooling2D(pool_size=2))\n",
        "model.add(Conv2D(filters=128, kernel_size=(5, 5), activation='relu'))\n",
        "model.add(Conv2D(filters=128, kernel_size=(5, 5), activation='relu'))\n",
        "model.add(MaxPooling2D(pool_size=2))\n",
        "model.add(Flatten())\n",
        "model.add(Dense(10, activation='softmax'))\n",
        "model.summary()\n",
        "model.compile(optimizer='rmsprop', loss='categorical_crossentropy', metrics=['accuracy'])"
      ],
      "metadata": {
        "colab": {
          "base_uri": "https://localhost:8080/"
        },
        "id": "LQ_HZ-tK8L-C",
        "outputId": "e41968a4-afcf-49b4-aaf4-bb59df9e426f"
      },
      "execution_count": 1,
      "outputs": [
        {
          "output_type": "stream",
          "name": "stdout",
          "text": [
            "Model: \"sequential\"\n",
            "_________________________________________________________________\n",
            " Layer (type)                Output Shape              Param #   \n",
            "=================================================================\n",
            " conv2d (Conv2D)             (None, 28, 28, 64)        4864      \n",
            "                                                                 \n",
            " conv2d_1 (Conv2D)           (None, 24, 24, 64)        102464    \n",
            "                                                                 \n",
            " max_pooling2d (MaxPooling2D  (None, 12, 12, 64)       0         \n",
            " )                                                               \n",
            "                                                                 \n",
            " conv2d_2 (Conv2D)           (None, 8, 8, 128)         204928    \n",
            "                                                                 \n",
            " conv2d_3 (Conv2D)           (None, 4, 4, 128)         409728    \n",
            "                                                                 \n",
            " max_pooling2d_1 (MaxPooling  (None, 2, 2, 128)        0         \n",
            " 2D)                                                             \n",
            "                                                                 \n",
            " flatten (Flatten)           (None, 512)               0         \n",
            "                                                                 \n",
            " dense (Dense)               (None, 10)                5130      \n",
            "                                                                 \n",
            "=================================================================\n",
            "Total params: 727,114\n",
            "Trainable params: 727,114\n",
            "Non-trainable params: 0\n",
            "_________________________________________________________________\n"
          ]
        }
      ]
    },
    {
      "cell_type": "code",
      "source": [
        "cifar10=keras.datasets.cifar10\n",
        "(train_data, train_label), (test_data, test_label) = cifar10.load_data()\n",
        "train_label_original=train_label\n",
        "train_label = keras.utils.to_categorical(train_label)\n",
        "test_label = keras.utils.to_categorical(test_label)"
      ],
      "metadata": {
        "id": "4eM5EOSr4DLB",
        "colab": {
          "base_uri": "https://localhost:8080/"
        },
        "outputId": "f1428c52-0792-4e53-dc26-4ab5bd19325a"
      },
      "execution_count": 2,
      "outputs": [
        {
          "output_type": "stream",
          "name": "stdout",
          "text": [
            "Downloading data from https://www.cs.toronto.edu/~kriz/cifar-10-python.tar.gz\n",
            "170500096/170498071 [==============================] - 13s 0us/step\n",
            "170508288/170498071 [==============================] - 13s 0us/step\n"
          ]
        }
      ]
    },
    {
      "cell_type": "code",
      "source": [
        "import matplotlib.pyplot as plt\n",
        "category=['airplane','automobile','bird','cat','deer','dog','frog','horse','ship','truck']\n",
        "plt.imshow(train_data[1])\n",
        "plt.title(category[int(train_label_original[1])])\n",
        "plt.show()\n",
        "print(train_label_original[1])"
      ],
      "metadata": {
        "colab": {
          "base_uri": "https://localhost:8080/",
          "height": 298
        },
        "id": "4j8cPTbDahQr",
        "outputId": "77068440-0f5c-464b-9c28-fed181e1235f"
      },
      "execution_count": 7,
      "outputs": [
        {
          "output_type": "display_data",
          "data": {
            "text/plain": [
              "<Figure size 432x288 with 1 Axes>"
            ],
            "image/png": "[encoded data removed]"
          },
          "metadata": {
            "needs_background": "light"
          }
        },
        {
          "output_type": "stream",
          "name": "stdout",
          "text": [
            "[9]\n"
          ]
        }
      ]
    },
    {
      "cell_type": "code",
      "source": [
        "train_history=model.fit(train_data,train_label,epochs=30,batch_size=512)\n"
      ],
      "metadata": {
        "id": "UFCQb8bgy3nU",
        "colab": {
          "base_uri": "https://localhost:8080/"
        },
        "outputId": "f12e9e6d-a32e-45c1-ef46-32062fd7d427"
      },
      "execution_count": 4,
      "outputs": [
        {
          "output_type": "stream",
          "name": "stdout",
          "text": [
            "Epoch 1/30\n",
            "98/98 [==============================] - 19s 54ms/step - loss: 10.8259 - accuracy: 0.1490\n",
            "Epoch 2/30\n",
            "98/98 [==============================] - 5s 46ms/step - loss: 2.3863 - accuracy: 0.1800\n",
            "Epoch 3/30\n",
            "98/98 [==============================] - 5s 47ms/step - loss: 2.1028 - accuracy: 0.2717\n",
            "Epoch 4/30\n",
            "98/98 [==============================] - 5s 49ms/step - loss: 1.9699 - accuracy: 0.3209\n",
            "Epoch 5/30\n",
            "98/98 [==============================] - 5s 48ms/step - loss: 1.7392 - accuracy: 0.3979\n",
            "Epoch 6/30\n",
            "98/98 [==============================] - 5s 48ms/step - loss: 1.6477 - accuracy: 0.4369\n",
            "Epoch 7/30\n",
            "98/98 [==============================] - 5s 50ms/step - loss: 1.5589 - accuracy: 0.4677\n",
            "Epoch 8/30\n",
            "98/98 [==============================] - 5s 49ms/step - loss: 1.3927 - accuracy: 0.5252\n",
            "Epoch 9/30\n",
            "98/98 [==============================] - 5s 49ms/step - loss: 1.2157 - accuracy: 0.5844\n",
            "Epoch 10/30\n",
            "98/98 [==============================] - 5s 49ms/step - loss: 1.0976 - accuracy: 0.6263\n",
            "Epoch 11/30\n",
            "98/98 [==============================] - 5s 49ms/step - loss: 0.9986 - accuracy: 0.6605\n",
            "Epoch 12/30\n",
            "98/98 [==============================] - 5s 49ms/step - loss: 0.8812 - accuracy: 0.6992\n",
            "Epoch 13/30\n",
            "98/98 [==============================] - 5s 48ms/step - loss: 0.7890 - accuracy: 0.7313\n",
            "Epoch 14/30\n",
            "98/98 [==============================] - 5s 48ms/step - loss: 0.6702 - accuracy: 0.7729\n",
            "Epoch 15/30\n",
            "98/98 [==============================] - 5s 49ms/step - loss: 0.5963 - accuracy: 0.7969\n",
            "Epoch 16/30\n",
            "98/98 [==============================] - 5s 48ms/step - loss: 0.5108 - accuracy: 0.8306\n",
            "Epoch 17/30\n",
            "98/98 [==============================] - 5s 48ms/step - loss: 0.4408 - accuracy: 0.8523\n",
            "Epoch 18/30\n",
            "98/98 [==============================] - 5s 48ms/step - loss: 0.4064 - accuracy: 0.8688\n",
            "Epoch 19/30\n",
            "98/98 [==============================] - 5s 48ms/step - loss: 0.3350 - accuracy: 0.8871\n",
            "Epoch 20/30\n",
            "98/98 [==============================] - 5s 48ms/step - loss: 0.3039 - accuracy: 0.9002\n",
            "Epoch 21/30\n",
            "98/98 [==============================] - 5s 48ms/step - loss: 0.2909 - accuracy: 0.9081\n",
            "Epoch 22/30\n",
            "98/98 [==============================] - 5s 48ms/step - loss: 0.2821 - accuracy: 0.9124\n",
            "Epoch 23/30\n",
            "98/98 [==============================] - 5s 48ms/step - loss: 0.2401 - accuracy: 0.9259\n",
            "Epoch 24/30\n",
            "98/98 [==============================] - 5s 48ms/step - loss: 0.2322 - accuracy: 0.9277\n",
            "Epoch 25/30\n",
            "98/98 [==============================] - 5s 48ms/step - loss: 0.2209 - accuracy: 0.9325\n",
            "Epoch 26/30\n",
            "98/98 [==============================] - 5s 48ms/step - loss: 0.2349 - accuracy: 0.9308\n",
            "Epoch 27/30\n",
            "98/98 [==============================] - 5s 49ms/step - loss: 0.2276 - accuracy: 0.9373\n",
            "Epoch 28/30\n",
            "98/98 [==============================] - 5s 49ms/step - loss: 0.2102 - accuracy: 0.9397\n",
            "Epoch 29/30\n",
            "98/98 [==============================] - 5s 49ms/step - loss: 0.1870 - accuracy: 0.9455\n",
            "Epoch 30/30\n",
            "98/98 [==============================] - 5s 48ms/step - loss: 0.1969 - accuracy: 0.9461\n"
          ]
        }
      ]
    },
    {
      "cell_type": "code",
      "source": [
        "score=model.evaluate(test_data, test_label)\n",
        "print(score[1])"
      ],
      "metadata": {
        "id": "SC2VW7yl87F-",
        "colab": {
          "base_uri": "https://localhost:8080/"
        },
        "outputId": "a5b7ef14-8e31-4a2a-c9a9-efed7eed29d4"
      },
      "execution_count": 5,
      "outputs": [
        {
          "output_type": "stream",
          "name": "stdout",
          "text": [
            "313/313 [==============================] - 2s 4ms/step - loss: 3.2847 - accuracy: 0.5968\n",
            "0.5968000292778015\n"
          ]
        }
      ]
    },
    {
      "cell_type": "code",
      "source": [
        "#繪製正確性與損失歷史圖\n",
        "import matplotlib.pyplot as plt\n",
        "import numpy as np\n",
        "\n",
        "def show_train_history(train_history, train):\n",
        "    plt.plot(train_history.history[train])\n",
        "    plt.title('Train History')\n",
        "    plt.ylabel(train)\n",
        "    plt.xlabel('Epoch')\n",
        "    plt.legend(['train'], loc='center right')\n",
        "    plt.show()\n",
        "\n",
        "show_train_history(train_history, 'accuracy')\n",
        "show_train_history(train_history, 'loss')"
      ],
      "metadata": {
        "colab": {
          "base_uri": "https://localhost:8080/",
          "height": 573
        },
        "id": "YycOQ_auS_1s",
        "outputId": "9e0936df-676d-46e0-c901-42c12b862fbf"
      },
      "execution_count": 6,
      "outputs": [
        {
          "output_type": "display_data",
          "data": {
            "text/plain": [
              "<Figure size 432x288 with 1 Axes>"
            ],
            "image/png": "[encoded data removed]"
          },
          "metadata": {
            "needs_background": "light"
          }
        },
        {
          "output_type": "display_data",
          "data": {
            "text/plain": [
              "<Figure size 432x288 with 1 Axes>"
            ],
            "image/png": "[encoded data removed]"
          },
          "metadata": {
            "needs_background": "light"
          }
        }
      ]
    }
  ]
}